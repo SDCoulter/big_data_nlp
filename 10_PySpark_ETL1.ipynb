{
  "nbformat": 4,
  "nbformat_minor": 0,
  "metadata": {
    "colab": {
      "name": "10_PySpark_ETL1.ipynb",
      "provenance": [],
      "collapsed_sections": [],
      "authorship_tag": "ABX9TyNuXLdg/ZyNc+Z9Aikiu5ow",
      "include_colab_link": true
    },
    "kernelspec": {
      "name": "python3",
      "display_name": "Python 3"
    },
    "language_info": {
      "name": "python"
    }
  },
  "cells": [
    {
      "cell_type": "markdown",
      "metadata": {
        "id": "view-in-github",
        "colab_type": "text"
      },
      "source": [
        "<a href=\"https://colab.research.google.com/github/SDCoulter/big_data_nlp/blob/main/10_PySpark_ETL1.ipynb\" target=\"_parent\"><img src=\"https://colab.research.google.com/assets/colab-badge.svg\" alt=\"Open In Colab\"/></a>"
      ]
    },
    {
      "cell_type": "code",
      "metadata": {
        "colab": {
          "base_uri": "https://localhost:8080/"
        },
        "id": "63dwOswiGLn9",
        "outputId": "d5df54fb-a6db-4193-d3b6-11a3359a293a"
      },
      "source": [
        "import os\n",
        "# Latest version of Spark.\n",
        "spark_version = 'spark-3.1.2/'\n",
        "os.environ['SPARK_VERSION'] = spark_version\n",
        "\n",
        "# Install Spark and Java.\n",
        "!apt-get update\n",
        "!apt-get install openjdk-11-jdk-headless -qq > /dev/null\n",
        "!wget -q http://www-us.apache.org/dist/spark/spark-3.1.2/spark-3.1.2-bin-hadoop2.7.tgz\n",
        "!tar xf spark-3.1.2-bin-hadoop2.7.tgz\n",
        "!pip install -q findspark\n",
        "\n",
        "# Set environment variables.\n",
        "import os\n",
        "os.environ[\"JAVA_HOME\"] = \"/usr/lib/jvm/java-11-openjdk-amd64\"\n",
        "os.environ[\"SPARK_HOME\"] = f\"/content/spark-3.1.2-bin-hadoop2.7\"\n",
        "\n",
        "# Start a SparkSession\n",
        "import findspark\n",
        "findspark.init()"
      ],
      "execution_count": 1,
      "outputs": [
        {
          "output_type": "stream",
          "text": [
            "\r0% [Working]\r            \rGet:1 http://security.ubuntu.com/ubuntu bionic-security InRelease [88.7 kB]\n",
            "\r0% [Connecting to archive.ubuntu.com (91.189.88.142)] [1 InRelease 14.2 kB/88.7\r                                                                               \rGet:2 https://cloud.r-project.org/bin/linux/ubuntu bionic-cran40/ InRelease [3,626 B]\n",
            "Ign:3 https://developer.download.nvidia.com/compute/cuda/repos/ubuntu1804/x86_64  InRelease\n",
            "Get:4 http://ppa.launchpad.net/c2d4u.team/c2d4u4.0+/ubuntu bionic InRelease [15.9 kB]\n",
            "Hit:5 http://archive.ubuntu.com/ubuntu bionic InRelease\n",
            "Ign:6 https://developer.download.nvidia.com/compute/machine-learning/repos/ubuntu1804/x86_64  InRelease\n",
            "Get:7 https://developer.download.nvidia.com/compute/cuda/repos/ubuntu1804/x86_64  Release [697 B]\n",
            "Hit:8 https://developer.download.nvidia.com/compute/machine-learning/repos/ubuntu1804/x86_64  Release\n",
            "Get:9 https://developer.download.nvidia.com/compute/cuda/repos/ubuntu1804/x86_64  Release.gpg [836 B]\n",
            "Get:10 http://archive.ubuntu.com/ubuntu bionic-updates InRelease [88.7 kB]\n",
            "Get:11 https://cloud.r-project.org/bin/linux/ubuntu bionic-cran40/ Packages [61.8 kB]\n",
            "Hit:12 http://ppa.launchpad.net/cran/libgit2/ubuntu bionic InRelease\n",
            "Get:13 http://archive.ubuntu.com/ubuntu bionic-backports InRelease [74.6 kB]\n",
            "Get:14 http://ppa.launchpad.net/deadsnakes/ppa/ubuntu bionic InRelease [15.9 kB]\n",
            "Get:15 http://security.ubuntu.com/ubuntu bionic-security/restricted amd64 Packages [450 kB]\n",
            "Get:16 http://security.ubuntu.com/ubuntu bionic-security/main amd64 Packages [2,184 kB]\n",
            "Get:17 http://security.ubuntu.com/ubuntu bionic-security/universe amd64 Packages [1,414 kB]\n",
            "Hit:18 http://ppa.launchpad.net/graphics-drivers/ppa/ubuntu bionic InRelease\n",
            "Ign:20 https://developer.download.nvidia.com/compute/cuda/repos/ubuntu1804/x86_64  Packages\n",
            "Get:20 https://developer.download.nvidia.com/compute/cuda/repos/ubuntu1804/x86_64  Packages [800 kB]\n",
            "Get:21 http://ppa.launchpad.net/c2d4u.team/c2d4u4.0+/ubuntu bionic/main Sources [1,770 kB]\n",
            "Get:22 http://archive.ubuntu.com/ubuntu bionic-updates/universe amd64 Packages [2,184 kB]\n",
            "Get:23 http://ppa.launchpad.net/c2d4u.team/c2d4u4.0+/ubuntu bionic/main amd64 Packages [906 kB]\n",
            "Get:24 http://archive.ubuntu.com/ubuntu bionic-updates/restricted amd64 Packages [480 kB]\n",
            "Get:25 http://archive.ubuntu.com/ubuntu bionic-updates/multiverse amd64 Packages [33.5 kB]\n",
            "Get:26 http://archive.ubuntu.com/ubuntu bionic-updates/main amd64 Packages [2,616 kB]\n",
            "Get:27 http://ppa.launchpad.net/deadsnakes/ppa/ubuntu bionic/main amd64 Packages [40.9 kB]\n",
            "Fetched 13.2 MB in 3s (4,109 kB/s)\n",
            "Reading package lists... Done\n"
          ],
          "name": "stdout"
        }
      ]
    },
    {
      "cell_type": "code",
      "metadata": {
        "colab": {
          "base_uri": "https://localhost:8080/"
        },
        "id": "ZiTkbkX7GTZw",
        "outputId": "279d8e28-ca3a-4b60-b9d9-c57686f04950"
      },
      "source": [
        "# Download a Postgres driver that will allow Spark to interact with Postgres.\n",
        "!wget https://jdbc.postgresql.org/download/postgresql-42.2.16.jar"
      ],
      "execution_count": 2,
      "outputs": [
        {
          "output_type": "stream",
          "text": [
            "--2021-06-09 00:09:25--  https://jdbc.postgresql.org/download/postgresql-42.2.16.jar\n",
            "Resolving jdbc.postgresql.org (jdbc.postgresql.org)... 72.32.157.228, 2001:4800:3e1:1::228\n",
            "Connecting to jdbc.postgresql.org (jdbc.postgresql.org)|72.32.157.228|:443... connected.\n",
            "HTTP request sent, awaiting response... 200 OK\n",
            "Length: 1002883 (979K) [application/java-archive]\n",
            "Saving to: ‘postgresql-42.2.16.jar’\n",
            "\n",
            "postgresql-42.2.16. 100%[===================>] 979.38K  5.61MB/s    in 0.2s    \n",
            "\n",
            "2021-06-09 00:09:25 (5.61 MB/s) - ‘postgresql-42.2.16.jar’ saved [1002883/1002883]\n",
            "\n"
          ],
          "name": "stdout"
        }
      ]
    },
    {
      "cell_type": "code",
      "metadata": {
        "id": "IBU6AkK3GTb8"
      },
      "source": [
        "# Start Spark session, with additional config for Postgres.\n",
        "from pyspark.sql import SparkSession\n",
        "spark = SparkSession.builder.appName(\"CloudETL\").config(\"spark.driver.extraClassPath\",\"/content/postgresql-42.2.16.jar\").getOrCreate()"
      ],
      "execution_count": 3,
      "outputs": []
    },
    {
      "cell_type": "code",
      "metadata": {
        "id": "bo89th6kHFEx"
      },
      "source": [
        "# Import SparkFiles and extract data from S3 Buckets to DFs.\n",
        "from pyspark import SparkFiles\n",
        "url1 = \"https://sdcoulter-bucket.s3.amazonaws.com/user_data.csv\"\n",
        "url2 = \"https://sdcoulter-bucket.s3.amazonaws.com/user_payment.csv\"\n",
        "spark.sparkContext.addFile(url1)\n",
        "spark.sparkContext.addFile(url2)\n",
        "user_data_df = spark.read.csv(SparkFiles.get(\"user_data.csv\"), sep=\",\", header=True)\n",
        "user_payment_df = spark.read.csv(SparkFiles.get(\"user_payment.csv\"), sep=\",\", header=True)"
      ],
      "execution_count": 5,
      "outputs": []
    },
    {
      "cell_type": "code",
      "metadata": {
        "colab": {
          "base_uri": "https://localhost:8080/"
        },
        "id": "Ve2bkREaISjx",
        "outputId": "099f4c7e-06b0-4ae1-d745-f7867471b845"
      },
      "source": [
        "# User Data DF.\n",
        "user_data_df.show(5)"
      ],
      "execution_count": 7,
      "outputs": [
        {
          "output_type": "stream",
          "text": [
            "+---+----------+---------+-----------+-------------------+--------------+---------+\n",
            "| id|first_name|last_name|active_user|     street_address|         state| username|\n",
            "+---+----------+---------+-----------+-------------------+--------------+---------+\n",
            "|  1|    Cletus|  Lithcow|      FALSE|78309 Riverside Way|      Virginia|ibearham0|\n",
            "|  2|       Caz|   Felgat|      FALSE|83 Hazelcrest Place|       Alabama| wwaller1|\n",
            "|  3|     Kerri|  Crowson|      FALSE|     112 Eliot Pass|North Carolina|ichesnut2|\n",
            "|  4|   Freddie|    Caghy|      FALSE|    15 Merchant Way|      New York|  tsnarr3|\n",
            "|  5|   Sadella|    Deuss|      FALSE|   079 Acker Avenue|     Tennessee|fwherrit4|\n",
            "+---+----------+---------+-----------+-------------------+--------------+---------+\n",
            "only showing top 5 rows\n",
            "\n"
          ],
          "name": "stdout"
        }
      ]
    },
    {
      "cell_type": "code",
      "metadata": {
        "colab": {
          "base_uri": "https://localhost:8080/"
        },
        "id": "IlipzWx9ISmO",
        "outputId": "507a66fb-7d12-48f8-d86d-04106ac16e02"
      },
      "source": [
        "# User Payment DF.\n",
        "user_payment_df.show(5)"
      ],
      "execution_count": 8,
      "outputs": [
        {
          "output_type": "stream",
          "text": [
            "+----------+---------+--------------------+\n",
            "|billing_id| username|        cc_encrypted|\n",
            "+----------+---------+--------------------+\n",
            "|         1|ibearham0|a799fcafe47d7fb19...|\n",
            "|         2| wwaller1|a799fcafe47d7fb19...|\n",
            "|         3|ichesnut2|a799fcafe47d7fb19...|\n",
            "|         4|  tsnarr3|a799fcafe47d7fb19...|\n",
            "|         5|fwherrit4|a799fcafe47d7fb19...|\n",
            "+----------+---------+--------------------+\n",
            "only showing top 5 rows\n",
            "\n"
          ],
          "name": "stdout"
        }
      ]
    },
    {
      "cell_type": "code",
      "metadata": {
        "colab": {
          "base_uri": "https://localhost:8080/"
        },
        "id": "x94BEKblI3jb",
        "outputId": "0ac1f712-56d9-4211-989a-0b64fc7291a1"
      },
      "source": [
        "# Join the two tables.\n",
        "joined_df = user_data_df.join(user_payment_df, on='username', how='inner')\n",
        "joined_df.show(5)"
      ],
      "execution_count": 9,
      "outputs": [
        {
          "output_type": "stream",
          "text": [
            "+---------+---+----------+---------+-----------+-------------------+--------------+----------+--------------------+\n",
            "| username| id|first_name|last_name|active_user|     street_address|         state|billing_id|        cc_encrypted|\n",
            "+---------+---+----------+---------+-----------+-------------------+--------------+----------+--------------------+\n",
            "|ibearham0|  1|    Cletus|  Lithcow|      FALSE|78309 Riverside Way|      Virginia|         1|a799fcafe47d7fb19...|\n",
            "| wwaller1|  2|       Caz|   Felgat|      FALSE|83 Hazelcrest Place|       Alabama|         2|a799fcafe47d7fb19...|\n",
            "|ichesnut2|  3|     Kerri|  Crowson|      FALSE|     112 Eliot Pass|North Carolina|         3|a799fcafe47d7fb19...|\n",
            "|  tsnarr3|  4|   Freddie|    Caghy|      FALSE|    15 Merchant Way|      New York|         4|a799fcafe47d7fb19...|\n",
            "|fwherrit4|  5|   Sadella|    Deuss|      FALSE|   079 Acker Avenue|     Tennessee|         5|a799fcafe47d7fb19...|\n",
            "+---------+---+----------+---------+-----------+-------------------+--------------+----------+--------------------+\n",
            "only showing top 5 rows\n",
            "\n"
          ],
          "name": "stdout"
        }
      ]
    },
    {
      "cell_type": "code",
      "metadata": {
        "colab": {
          "base_uri": "https://localhost:8080/"
        },
        "id": "WdqJlMNtI3lp",
        "outputId": "724cb47c-f394-42b7-b216-515033bd3074"
      },
      "source": [
        "# Drop any rows with null/NaN values.\n",
        "dropna_df = joined_df.dropna()\n",
        "dropna_df.show(5)"
      ],
      "execution_count": 10,
      "outputs": [
        {
          "output_type": "stream",
          "text": [
            "+---------+---+----------+---------+-----------+-------------------+--------------+----------+--------------------+\n",
            "| username| id|first_name|last_name|active_user|     street_address|         state|billing_id|        cc_encrypted|\n",
            "+---------+---+----------+---------+-----------+-------------------+--------------+----------+--------------------+\n",
            "|ibearham0|  1|    Cletus|  Lithcow|      FALSE|78309 Riverside Way|      Virginia|         1|a799fcafe47d7fb19...|\n",
            "| wwaller1|  2|       Caz|   Felgat|      FALSE|83 Hazelcrest Place|       Alabama|         2|a799fcafe47d7fb19...|\n",
            "|ichesnut2|  3|     Kerri|  Crowson|      FALSE|     112 Eliot Pass|North Carolina|         3|a799fcafe47d7fb19...|\n",
            "|  tsnarr3|  4|   Freddie|    Caghy|      FALSE|    15 Merchant Way|      New York|         4|a799fcafe47d7fb19...|\n",
            "|fwherrit4|  5|   Sadella|    Deuss|      FALSE|   079 Acker Avenue|     Tennessee|         5|a799fcafe47d7fb19...|\n",
            "+---------+---+----------+---------+-----------+-------------------+--------------+----------+--------------------+\n",
            "only showing top 5 rows\n",
            "\n"
          ],
          "name": "stdout"
        }
      ]
    },
    {
      "cell_type": "code",
      "metadata": {
        "colab": {
          "base_uri": "https://localhost:8080/"
        },
        "id": "mcGhNUErI3oJ",
        "outputId": "6f788660-c94d-4398-cc2f-0141f817da62"
      },
      "source": [
        "# Filter for active users.\n",
        "from pyspark.sql.functions import col\n",
        "cleaned_df = dropna_df.filter(col(\"active_user\") == True)\n",
        "cleaned_df.show(5)"
      ],
      "execution_count": 11,
      "outputs": [
        {
          "output_type": "stream",
          "text": [
            "+------------+---+----------+---------+-----------+--------------------+--------------------+----------+--------------------+\n",
            "|    username| id|first_name|last_name|active_user|      street_address|               state|billing_id|        cc_encrypted|\n",
            "+------------+---+----------+---------+-----------+--------------------+--------------------+----------+--------------------+\n",
            "|  fstappard5|  6|    Fraser|  Korneev|       TRUE|  76084 Novick Court|           Minnesota|         6|a799fcafe47d7fb19...|\n",
            "|  lhambling6|  7|    Demott|   Rapson|       TRUE|    86320 Dahle Park|District of Columbia|         7|a799fcafe47d7fb19...|\n",
            "|   wheinerte| 15|   Sadella|    Jaram|       TRUE|7528 Waxwing Terrace|         Connecticut|        15|a799fcafe47d7fb19...|\n",
            "|droughsedgeg| 17|    Hewitt|  Trammel|       TRUE|    2455 Corry Alley|      North Carolina|        17|a799fcafe47d7fb19...|\n",
            "|   ydudeniei| 19|       Ted|  Knowlys|       TRUE|      31 South Drive|                Ohio|        19|a799fcafe47d7fb19...|\n",
            "+------------+---+----------+---------+-----------+--------------------+--------------------+----------+--------------------+\n",
            "only showing top 5 rows\n",
            "\n"
          ],
          "name": "stdout"
        }
      ]
    },
    {
      "cell_type": "code",
      "metadata": {
        "colab": {
          "base_uri": "https://localhost:8080/"
        },
        "id": "XhUhQ-aSI3qT",
        "outputId": "91f0e827-fefb-4011-c7be-3eaf6c224bd6"
      },
      "source": [
        "# Create user DF to match the active_user table.\n",
        "clean_user_df = cleaned_df.select(['id', 'first_name', 'last_name', 'username'])\n",
        "clean_user_df.show(5)"
      ],
      "execution_count": 12,
      "outputs": [
        {
          "output_type": "stream",
          "text": [
            "+---+----------+---------+------------+\n",
            "| id|first_name|last_name|    username|\n",
            "+---+----------+---------+------------+\n",
            "|  6|    Fraser|  Korneev|  fstappard5|\n",
            "|  7|    Demott|   Rapson|  lhambling6|\n",
            "| 15|   Sadella|    Jaram|   wheinerte|\n",
            "| 17|    Hewitt|  Trammel|droughsedgeg|\n",
            "| 19|       Ted|  Knowlys|   ydudeniei|\n",
            "+---+----------+---------+------------+\n",
            "only showing top 5 rows\n",
            "\n"
          ],
          "name": "stdout"
        }
      ]
    },
    {
      "cell_type": "code",
      "metadata": {
        "colab": {
          "base_uri": "https://localhost:8080/"
        },
        "id": "VEoW4gcBLE0X",
        "outputId": "53b14204-7182-415f-e8d0-5b901e7b7c24"
      },
      "source": [
        "# Create the DF to match the billing_info table.\n",
        "clean_billing_df = cleaned_df.select(['billing_id', 'street_address', 'state', 'username'])\n",
        "clean_billing_df.show(5)"
      ],
      "execution_count": 13,
      "outputs": [
        {
          "output_type": "stream",
          "text": [
            "+----------+--------------------+--------------------+------------+\n",
            "|billing_id|      street_address|               state|    username|\n",
            "+----------+--------------------+--------------------+------------+\n",
            "|         6|  76084 Novick Court|           Minnesota|  fstappard5|\n",
            "|         7|    86320 Dahle Park|District of Columbia|  lhambling6|\n",
            "|        15|7528 Waxwing Terrace|         Connecticut|   wheinerte|\n",
            "|        17|    2455 Corry Alley|      North Carolina|droughsedgeg|\n",
            "|        19|      31 South Drive|                Ohio|   ydudeniei|\n",
            "+----------+--------------------+--------------------+------------+\n",
            "only showing top 5 rows\n",
            "\n"
          ],
          "name": "stdout"
        }
      ]
    },
    {
      "cell_type": "code",
      "metadata": {
        "colab": {
          "base_uri": "https://localhost:8080/"
        },
        "id": "nBXMqb90LE2x",
        "outputId": "406f4273-456a-4fa6-980c-952ba8a3cb0a"
      },
      "source": [
        "# Create the DF to match the payment_info table.\n",
        "clean_payment_df = cleaned_df.select(['billing_id', 'cc_encrypted'])\n",
        "clean_payment_df.show(5)"
      ],
      "execution_count": 14,
      "outputs": [
        {
          "output_type": "stream",
          "text": [
            "+----------+--------------------+\n",
            "|billing_id|        cc_encrypted|\n",
            "+----------+--------------------+\n",
            "|         6|a799fcafe47d7fb19...|\n",
            "|         7|a799fcafe47d7fb19...|\n",
            "|        15|a799fcafe47d7fb19...|\n",
            "|        17|a799fcafe47d7fb19...|\n",
            "|        19|a799fcafe47d7fb19...|\n",
            "+----------+--------------------+\n",
            "only showing top 5 rows\n",
            "\n"
          ],
          "name": "stdout"
        }
      ]
    }
  ]
}